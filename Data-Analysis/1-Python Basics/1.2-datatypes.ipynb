{
 "cells": [
  {
   "cell_type": "markdown",
   "id": "7dfc9297",
   "metadata": {},
   "source": [
    "### Tipos de Datos en Python\n",
    "\n",
    "\n"
   ]
  }
 ],
 "metadata": {
  "language_info": {
   "name": "python"
  }
 },
 "nbformat": 4,
 "nbformat_minor": 5
}
