{
 "cells": [
  {
   "cell_type": "code",
   "execution_count": 2,
   "id": "ce5f1249",
   "metadata": {},
   "outputs": [
    {
     "name": "stdout",
     "output_type": "stream",
     "text": [
      "10 <class 'int'>\n",
      "Hello <class 'str'>\n"
     ]
    }
   ],
   "source": [
    "var=10\n",
    "print(var, type(var))\n",
    "\n",
    "var=\"Hello\"\n",
    "print(var, type(var))"
   ]
  },
  {
   "cell_type": "code",
   "execution_count": null,
   "id": "d2aed924",
   "metadata": {},
   "outputs": [],
   "source": [
    "## input\n",
    "\n",
    "age=input(\"What is the age\")\n",
    "print(age, type(age))\n",
    "\n",
    "\n",
    "## int input\n",
    "\n",
    "\n",
    "age=int(input(\"What is the age\"))\n",
    "print(age, type(age))"
   ]
  }
 ],
 "metadata": {
  "kernelspec": {
   "display_name": "Python 3",
   "language": "python",
   "name": "python3"
  },
  "language_info": {
   "codemirror_mode": {
    "name": "ipython",
    "version": 3
   },
   "file_extension": ".py",
   "mimetype": "text/x-python",
   "name": "python",
   "nbconvert_exporter": "python",
   "pygments_lexer": "ipython3",
   "version": "3.12.0"
  }
 },
 "nbformat": 4,
 "nbformat_minor": 5
}
